{
  "nbformat": 4,
  "nbformat_minor": 0,
  "metadata": {
    "colab": {
      "provenance": [],
      "mount_file_id": "1ujmXbi61rH3Hh4upS0r25aVw97dXikGE",
      "authorship_tag": "ABX9TyPCv5V9sHiVorKLKlpRpvqr"
    },
    "kernelspec": {
      "name": "python3",
      "display_name": "Python 3"
    },
    "language_info": {
      "name": "python"
    }
  },
  "cells": [
    {
      "cell_type": "markdown",
      "source": [
        "# **Unzipping**"
      ],
      "metadata": {
        "id": "MpH5Pgsb_5tu"
      }
    },
    {
      "cell_type": "code",
      "execution_count": null,
      "metadata": {
        "id": "67_UCoiqAAam"
      },
      "outputs": [],
      "source": [
        "pip freeze"
      ]
    },
    {
      "cell_type": "code",
      "source": [
        "pwd"
      ],
      "metadata": {
        "id": "j_tN7oMYKJcY"
      },
      "execution_count": null,
      "outputs": []
    },
    {
      "cell_type": "code",
      "source": [
        "ls "
      ],
      "metadata": {
        "id": "e7XDim1lKnp1"
      },
      "execution_count": null,
      "outputs": []
    },
    {
      "cell_type": "code",
      "source": [
        "!unzip drive/MyDrive/pubhealth/data/PUBHEALTH.zip -d drive/MyDrive/pubhealth/data/raw"
      ],
      "metadata": {
        "colab": {
          "base_uri": "https://localhost:8080/"
        },
        "id": "SeEBYed2KpDJ",
        "outputId": "e278cc13-741b-421d-9096-d47edd5429ac"
      },
      "execution_count": 4,
      "outputs": [
        {
          "output_type": "stream",
          "name": "stdout",
          "text": [
            "Archive:  drive/MyDrive/pubhealth/data/PUBHEALTH.zip\n",
            "replace drive/MyDrive/pubhealth/data/raw/PUBHEALTH/train.tsv? [y]es, [n]o, [A]ll, [N]one, [r]ename: N\n"
          ]
        }
      ]
    },
    {
      "cell_type": "code",
      "source": [
        "ls drive/MyDrive/pubhealth/data/raw/PUBHEALTH/"
      ],
      "metadata": {
        "colab": {
          "base_uri": "https://localhost:8080/"
        },
        "id": "ClN7lozOKzpu",
        "outputId": "1818bb39-8169-4ed6-eda5-d6f34f5c5a9b"
      },
      "execution_count": 5,
      "outputs": [
        {
          "output_type": "stream",
          "name": "stdout",
          "text": [
            "dev.tsv  test.tsv  train.tsv\n"
          ]
        }
      ]
    },
    {
      "cell_type": "markdown",
      "source": [
        "# **Exploratory Analysis and Preprocessing**"
      ],
      "metadata": {
        "id": "J0eDJukK_l4c"
      }
    },
    {
      "cell_type": "code",
      "source": [
        "import pandas as pd"
      ],
      "metadata": {
        "id": "-DWkrPKWMUtU"
      },
      "execution_count": 6,
      "outputs": []
    },
    {
      "cell_type": "code",
      "source": [
        "train = pd.read_csv('drive/MyDrive/pubhealth/data/raw/PUBHEALTH/train.tsv', sep='\\t')\n",
        "dev = pd.read_csv('drive/MyDrive/pubhealth/data/raw/PUBHEALTH/dev.tsv', sep='\\t')\n",
        "test = pd.read_csv('drive/MyDrive/pubhealth/data/raw/PUBHEALTH/test.tsv', sep='\\t',index_col=0)"
      ],
      "metadata": {
        "id": "PpKk9nYINQOw"
      },
      "execution_count": 7,
      "outputs": []
    },
    {
      "cell_type": "code",
      "source": [
        "train.head()"
      ],
      "metadata": {
        "colab": {
          "base_uri": "https://localhost:8080/",
          "height": 424
        },
        "id": "6BcwzkLa2uqv",
        "outputId": "22ed9b19-edce-4eab-ae76-0a5ff2433f11"
      },
      "execution_count": 8,
      "outputs": [
        {
          "output_type": "execute_result",
          "data": {
            "text/plain": [
              "  claim_id                                              claim  \\\n",
              "0    15661  \"The money the Clinton Foundation took from fr...   \n",
              "1     9893    Annual Mammograms May Have More False-Positives   \n",
              "2    11358  SBRT Offers Prostate Cancer Patients High Canc...   \n",
              "3    10166  Study: Vaccine for Breast, Ovarian Cancer Has ...   \n",
              "4    11276  Some appendicitis cases may not require ’emerg...   \n",
              "\n",
              "       date_published                                        explanation  \\\n",
              "0      April 26, 2015  \"Gingrich said the Clinton Foundation \"\"took m...   \n",
              "1    October 18, 2011  This article reports on the results of a study...   \n",
              "2  September 28, 2016  This news release describes five-year outcomes...   \n",
              "3    November 8, 2011  While the story does many things well, the ove...   \n",
              "4  September 20, 2010  We really don’t understand why only a handful ...   \n",
              "\n",
              "                                       fact_checkers  \\\n",
              "0                                      Katie Sanders   \n",
              "1                                                      \n",
              "2  Mary Chris Jaklevic,Steven J. Atlas, MD, MPH,K...   \n",
              "3                                                      \n",
              "4                                                      \n",
              "\n",
              "                                           main_text  \\\n",
              "0  \"Hillary Clinton is in the political crosshair...   \n",
              "1  While the financial costs of screening mammogr...   \n",
              "2  The news release quotes lead researcher Robert...   \n",
              "3  The story does discuss costs, but the framing ...   \n",
              "4  \"Although the story didn’t cite the cost of ap...   \n",
              "\n",
              "                                             sources    label  \\\n",
              "0  https://www.wsj.com/articles/clinton-foundatio...    false   \n",
              "1                                                     mixture   \n",
              "2  https://www.healthnewsreview.org/wp-content/up...  mixture   \n",
              "3  http://clinicaltrials.gov/ct2/results?term=can...     true   \n",
              "4                                                        true   \n",
              "\n",
              "                                      subjects  \n",
              "0  Foreign Policy, PunditFact, Newt Gingrich,   \n",
              "1               Screening,WebMD,women's health  \n",
              "2      Association/Society news release,Cancer  \n",
              "3                  Cancer,WebMD,women's health  \n",
              "4                                               "
            ],
            "text/html": [
              "\n",
              "  <div id=\"df-b939d691-7e70-4817-ab48-fbecca1da0f5\">\n",
              "    <div class=\"colab-df-container\">\n",
              "      <div>\n",
              "<style scoped>\n",
              "    .dataframe tbody tr th:only-of-type {\n",
              "        vertical-align: middle;\n",
              "    }\n",
              "\n",
              "    .dataframe tbody tr th {\n",
              "        vertical-align: top;\n",
              "    }\n",
              "\n",
              "    .dataframe thead th {\n",
              "        text-align: right;\n",
              "    }\n",
              "</style>\n",
              "<table border=\"1\" class=\"dataframe\">\n",
              "  <thead>\n",
              "    <tr style=\"text-align: right;\">\n",
              "      <th></th>\n",
              "      <th>claim_id</th>\n",
              "      <th>claim</th>\n",
              "      <th>date_published</th>\n",
              "      <th>explanation</th>\n",
              "      <th>fact_checkers</th>\n",
              "      <th>main_text</th>\n",
              "      <th>sources</th>\n",
              "      <th>label</th>\n",
              "      <th>subjects</th>\n",
              "    </tr>\n",
              "  </thead>\n",
              "  <tbody>\n",
              "    <tr>\n",
              "      <th>0</th>\n",
              "      <td>15661</td>\n",
              "      <td>\"The money the Clinton Foundation took from fr...</td>\n",
              "      <td>April 26, 2015</td>\n",
              "      <td>\"Gingrich said the Clinton Foundation \"\"took m...</td>\n",
              "      <td>Katie Sanders</td>\n",
              "      <td>\"Hillary Clinton is in the political crosshair...</td>\n",
              "      <td>https://www.wsj.com/articles/clinton-foundatio...</td>\n",
              "      <td>false</td>\n",
              "      <td>Foreign Policy, PunditFact, Newt Gingrich,</td>\n",
              "    </tr>\n",
              "    <tr>\n",
              "      <th>1</th>\n",
              "      <td>9893</td>\n",
              "      <td>Annual Mammograms May Have More False-Positives</td>\n",
              "      <td>October 18, 2011</td>\n",
              "      <td>This article reports on the results of a study...</td>\n",
              "      <td></td>\n",
              "      <td>While the financial costs of screening mammogr...</td>\n",
              "      <td></td>\n",
              "      <td>mixture</td>\n",
              "      <td>Screening,WebMD,women's health</td>\n",
              "    </tr>\n",
              "    <tr>\n",
              "      <th>2</th>\n",
              "      <td>11358</td>\n",
              "      <td>SBRT Offers Prostate Cancer Patients High Canc...</td>\n",
              "      <td>September 28, 2016</td>\n",
              "      <td>This news release describes five-year outcomes...</td>\n",
              "      <td>Mary Chris Jaklevic,Steven J. Atlas, MD, MPH,K...</td>\n",
              "      <td>The news release quotes lead researcher Robert...</td>\n",
              "      <td>https://www.healthnewsreview.org/wp-content/up...</td>\n",
              "      <td>mixture</td>\n",
              "      <td>Association/Society news release,Cancer</td>\n",
              "    </tr>\n",
              "    <tr>\n",
              "      <th>3</th>\n",
              "      <td>10166</td>\n",
              "      <td>Study: Vaccine for Breast, Ovarian Cancer Has ...</td>\n",
              "      <td>November 8, 2011</td>\n",
              "      <td>While the story does many things well, the ove...</td>\n",
              "      <td></td>\n",
              "      <td>The story does discuss costs, but the framing ...</td>\n",
              "      <td>http://clinicaltrials.gov/ct2/results?term=can...</td>\n",
              "      <td>true</td>\n",
              "      <td>Cancer,WebMD,women's health</td>\n",
              "    </tr>\n",
              "    <tr>\n",
              "      <th>4</th>\n",
              "      <td>11276</td>\n",
              "      <td>Some appendicitis cases may not require ’emerg...</td>\n",
              "      <td>September 20, 2010</td>\n",
              "      <td>We really don’t understand why only a handful ...</td>\n",
              "      <td></td>\n",
              "      <td>\"Although the story didn’t cite the cost of ap...</td>\n",
              "      <td></td>\n",
              "      <td>true</td>\n",
              "      <td></td>\n",
              "    </tr>\n",
              "  </tbody>\n",
              "</table>\n",
              "</div>\n",
              "      <button class=\"colab-df-convert\" onclick=\"convertToInteractive('df-b939d691-7e70-4817-ab48-fbecca1da0f5')\"\n",
              "              title=\"Convert this dataframe to an interactive table.\"\n",
              "              style=\"display:none;\">\n",
              "        \n",
              "  <svg xmlns=\"http://www.w3.org/2000/svg\" height=\"24px\"viewBox=\"0 0 24 24\"\n",
              "       width=\"24px\">\n",
              "    <path d=\"M0 0h24v24H0V0z\" fill=\"none\"/>\n",
              "    <path d=\"M18.56 5.44l.94 2.06.94-2.06 2.06-.94-2.06-.94-.94-2.06-.94 2.06-2.06.94zm-11 1L8.5 8.5l.94-2.06 2.06-.94-2.06-.94L8.5 2.5l-.94 2.06-2.06.94zm10 10l.94 2.06.94-2.06 2.06-.94-2.06-.94-.94-2.06-.94 2.06-2.06.94z\"/><path d=\"M17.41 7.96l-1.37-1.37c-.4-.4-.92-.59-1.43-.59-.52 0-1.04.2-1.43.59L10.3 9.45l-7.72 7.72c-.78.78-.78 2.05 0 2.83L4 21.41c.39.39.9.59 1.41.59.51 0 1.02-.2 1.41-.59l7.78-7.78 2.81-2.81c.8-.78.8-2.07 0-2.86zM5.41 20L4 18.59l7.72-7.72 1.47 1.35L5.41 20z\"/>\n",
              "  </svg>\n",
              "      </button>\n",
              "      \n",
              "  <style>\n",
              "    .colab-df-container {\n",
              "      display:flex;\n",
              "      flex-wrap:wrap;\n",
              "      gap: 12px;\n",
              "    }\n",
              "\n",
              "    .colab-df-convert {\n",
              "      background-color: #E8F0FE;\n",
              "      border: none;\n",
              "      border-radius: 50%;\n",
              "      cursor: pointer;\n",
              "      display: none;\n",
              "      fill: #1967D2;\n",
              "      height: 32px;\n",
              "      padding: 0 0 0 0;\n",
              "      width: 32px;\n",
              "    }\n",
              "\n",
              "    .colab-df-convert:hover {\n",
              "      background-color: #E2EBFA;\n",
              "      box-shadow: 0px 1px 2px rgba(60, 64, 67, 0.3), 0px 1px 3px 1px rgba(60, 64, 67, 0.15);\n",
              "      fill: #174EA6;\n",
              "    }\n",
              "\n",
              "    [theme=dark] .colab-df-convert {\n",
              "      background-color: #3B4455;\n",
              "      fill: #D2E3FC;\n",
              "    }\n",
              "\n",
              "    [theme=dark] .colab-df-convert:hover {\n",
              "      background-color: #434B5C;\n",
              "      box-shadow: 0px 1px 3px 1px rgba(0, 0, 0, 0.15);\n",
              "      filter: drop-shadow(0px 1px 2px rgba(0, 0, 0, 0.3));\n",
              "      fill: #FFFFFF;\n",
              "    }\n",
              "  </style>\n",
              "\n",
              "      <script>\n",
              "        const buttonEl =\n",
              "          document.querySelector('#df-b939d691-7e70-4817-ab48-fbecca1da0f5 button.colab-df-convert');\n",
              "        buttonEl.style.display =\n",
              "          google.colab.kernel.accessAllowed ? 'block' : 'none';\n",
              "\n",
              "        async function convertToInteractive(key) {\n",
              "          const element = document.querySelector('#df-b939d691-7e70-4817-ab48-fbecca1da0f5');\n",
              "          const dataTable =\n",
              "            await google.colab.kernel.invokeFunction('convertToInteractive',\n",
              "                                                     [key], {});\n",
              "          if (!dataTable) return;\n",
              "\n",
              "          const docLinkHtml = 'Like what you see? Visit the ' +\n",
              "            '<a target=\"_blank\" href=https://colab.research.google.com/notebooks/data_table.ipynb>data table notebook</a>'\n",
              "            + ' to learn more about interactive tables.';\n",
              "          element.innerHTML = '';\n",
              "          dataTable['output_type'] = 'display_data';\n",
              "          await google.colab.output.renderOutput(dataTable, element);\n",
              "          const docLink = document.createElement('div');\n",
              "          docLink.innerHTML = docLinkHtml;\n",
              "          element.appendChild(docLink);\n",
              "        }\n",
              "      </script>\n",
              "    </div>\n",
              "  </div>\n",
              "  "
            ]
          },
          "metadata": {},
          "execution_count": 8
        }
      ]
    },
    {
      "cell_type": "code",
      "source": [
        "#verifying the columns coherence\n",
        "train.columns.to_list() == dev.columns.to_list()== test.columns.to_list()"
      ],
      "metadata": {
        "colab": {
          "base_uri": "https://localhost:8080/"
        },
        "id": "9DGVZUyP33pg",
        "outputId": "5fe5296a-fcbe-44f5-942a-b44855af180d"
      },
      "execution_count": 9,
      "outputs": [
        {
          "output_type": "execute_result",
          "data": {
            "text/plain": [
              "True"
            ]
          },
          "metadata": {},
          "execution_count": 9
        }
      ]
    },
    {
      "cell_type": "markdown",
      "source": [
        "**Intuitive column selection though PCA study can be done based on tf-idf can be conducted**"
      ],
      "metadata": {
        "id": "DqydOw3UxiNu"
      }
    },
    {
      "cell_type": "code",
      "source": [
        "\n",
        "train_df = train[['label', 'claim','main_text','explanation','subjects','sources']]\n",
        "dev_df = dev[['label', 'claim','main_text','explanation','subjects']]\n",
        "test_df = test[['label', 'claim','main_text','explanation','subjects']]"
      ],
      "metadata": {
        "id": "dCg1VA6R3m7s"
      },
      "execution_count": 10,
      "outputs": []
    },
    {
      "cell_type": "code",
      "source": [
        "train_df.describe()"
      ],
      "metadata": {
        "colab": {
          "base_uri": "https://localhost:8080/",
          "height": 175
        },
        "id": "1Gaj7sDS73i7",
        "outputId": "9a3a2234-7f43-4086-feba-3b4198aeefe1"
      },
      "execution_count": 11,
      "outputs": [
        {
          "output_type": "execute_result",
          "data": {
            "text/plain": [
              "       label                                              claim  \\\n",
              "count   9805                                               9824   \n",
              "unique     5                                               9824   \n",
              "top     true  \"The money the Clinton Foundation took from fr...   \n",
              "freq    5078                                                  1   \n",
              "\n",
              "                                                main_text explanation  \\\n",
              "count                                                9806        9824   \n",
              "unique                                               9589        9675   \n",
              "top     Doctors in India have been successful in treat...       false   \n",
              "freq                                                   12           3   \n",
              "\n",
              "           subjects sources  \n",
              "count          9804    9804  \n",
              "unique         5811    5063  \n",
              "top     Health News          \n",
              "freq           1242    4550  "
            ],
            "text/html": [
              "\n",
              "  <div id=\"df-0552ef30-f9b4-483b-9d96-3fb5ebcdd67c\">\n",
              "    <div class=\"colab-df-container\">\n",
              "      <div>\n",
              "<style scoped>\n",
              "    .dataframe tbody tr th:only-of-type {\n",
              "        vertical-align: middle;\n",
              "    }\n",
              "\n",
              "    .dataframe tbody tr th {\n",
              "        vertical-align: top;\n",
              "    }\n",
              "\n",
              "    .dataframe thead th {\n",
              "        text-align: right;\n",
              "    }\n",
              "</style>\n",
              "<table border=\"1\" class=\"dataframe\">\n",
              "  <thead>\n",
              "    <tr style=\"text-align: right;\">\n",
              "      <th></th>\n",
              "      <th>label</th>\n",
              "      <th>claim</th>\n",
              "      <th>main_text</th>\n",
              "      <th>explanation</th>\n",
              "      <th>subjects</th>\n",
              "      <th>sources</th>\n",
              "    </tr>\n",
              "  </thead>\n",
              "  <tbody>\n",
              "    <tr>\n",
              "      <th>count</th>\n",
              "      <td>9805</td>\n",
              "      <td>9824</td>\n",
              "      <td>9806</td>\n",
              "      <td>9824</td>\n",
              "      <td>9804</td>\n",
              "      <td>9804</td>\n",
              "    </tr>\n",
              "    <tr>\n",
              "      <th>unique</th>\n",
              "      <td>5</td>\n",
              "      <td>9824</td>\n",
              "      <td>9589</td>\n",
              "      <td>9675</td>\n",
              "      <td>5811</td>\n",
              "      <td>5063</td>\n",
              "    </tr>\n",
              "    <tr>\n",
              "      <th>top</th>\n",
              "      <td>true</td>\n",
              "      <td>\"The money the Clinton Foundation took from fr...</td>\n",
              "      <td>Doctors in India have been successful in treat...</td>\n",
              "      <td>false</td>\n",
              "      <td>Health News</td>\n",
              "      <td></td>\n",
              "    </tr>\n",
              "    <tr>\n",
              "      <th>freq</th>\n",
              "      <td>5078</td>\n",
              "      <td>1</td>\n",
              "      <td>12</td>\n",
              "      <td>3</td>\n",
              "      <td>1242</td>\n",
              "      <td>4550</td>\n",
              "    </tr>\n",
              "  </tbody>\n",
              "</table>\n",
              "</div>\n",
              "      <button class=\"colab-df-convert\" onclick=\"convertToInteractive('df-0552ef30-f9b4-483b-9d96-3fb5ebcdd67c')\"\n",
              "              title=\"Convert this dataframe to an interactive table.\"\n",
              "              style=\"display:none;\">\n",
              "        \n",
              "  <svg xmlns=\"http://www.w3.org/2000/svg\" height=\"24px\"viewBox=\"0 0 24 24\"\n",
              "       width=\"24px\">\n",
              "    <path d=\"M0 0h24v24H0V0z\" fill=\"none\"/>\n",
              "    <path d=\"M18.56 5.44l.94 2.06.94-2.06 2.06-.94-2.06-.94-.94-2.06-.94 2.06-2.06.94zm-11 1L8.5 8.5l.94-2.06 2.06-.94-2.06-.94L8.5 2.5l-.94 2.06-2.06.94zm10 10l.94 2.06.94-2.06 2.06-.94-2.06-.94-.94-2.06-.94 2.06-2.06.94z\"/><path d=\"M17.41 7.96l-1.37-1.37c-.4-.4-.92-.59-1.43-.59-.52 0-1.04.2-1.43.59L10.3 9.45l-7.72 7.72c-.78.78-.78 2.05 0 2.83L4 21.41c.39.39.9.59 1.41.59.51 0 1.02-.2 1.41-.59l7.78-7.78 2.81-2.81c.8-.78.8-2.07 0-2.86zM5.41 20L4 18.59l7.72-7.72 1.47 1.35L5.41 20z\"/>\n",
              "  </svg>\n",
              "      </button>\n",
              "      \n",
              "  <style>\n",
              "    .colab-df-container {\n",
              "      display:flex;\n",
              "      flex-wrap:wrap;\n",
              "      gap: 12px;\n",
              "    }\n",
              "\n",
              "    .colab-df-convert {\n",
              "      background-color: #E8F0FE;\n",
              "      border: none;\n",
              "      border-radius: 50%;\n",
              "      cursor: pointer;\n",
              "      display: none;\n",
              "      fill: #1967D2;\n",
              "      height: 32px;\n",
              "      padding: 0 0 0 0;\n",
              "      width: 32px;\n",
              "    }\n",
              "\n",
              "    .colab-df-convert:hover {\n",
              "      background-color: #E2EBFA;\n",
              "      box-shadow: 0px 1px 2px rgba(60, 64, 67, 0.3), 0px 1px 3px 1px rgba(60, 64, 67, 0.15);\n",
              "      fill: #174EA6;\n",
              "    }\n",
              "\n",
              "    [theme=dark] .colab-df-convert {\n",
              "      background-color: #3B4455;\n",
              "      fill: #D2E3FC;\n",
              "    }\n",
              "\n",
              "    [theme=dark] .colab-df-convert:hover {\n",
              "      background-color: #434B5C;\n",
              "      box-shadow: 0px 1px 3px 1px rgba(0, 0, 0, 0.15);\n",
              "      filter: drop-shadow(0px 1px 2px rgba(0, 0, 0, 0.3));\n",
              "      fill: #FFFFFF;\n",
              "    }\n",
              "  </style>\n",
              "\n",
              "      <script>\n",
              "        const buttonEl =\n",
              "          document.querySelector('#df-0552ef30-f9b4-483b-9d96-3fb5ebcdd67c button.colab-df-convert');\n",
              "        buttonEl.style.display =\n",
              "          google.colab.kernel.accessAllowed ? 'block' : 'none';\n",
              "\n",
              "        async function convertToInteractive(key) {\n",
              "          const element = document.querySelector('#df-0552ef30-f9b4-483b-9d96-3fb5ebcdd67c');\n",
              "          const dataTable =\n",
              "            await google.colab.kernel.invokeFunction('convertToInteractive',\n",
              "                                                     [key], {});\n",
              "          if (!dataTable) return;\n",
              "\n",
              "          const docLinkHtml = 'Like what you see? Visit the ' +\n",
              "            '<a target=\"_blank\" href=https://colab.research.google.com/notebooks/data_table.ipynb>data table notebook</a>'\n",
              "            + ' to learn more about interactive tables.';\n",
              "          element.innerHTML = '';\n",
              "          dataTable['output_type'] = 'display_data';\n",
              "          await google.colab.output.renderOutput(dataTable, element);\n",
              "          const docLink = document.createElement('div');\n",
              "          docLink.innerHTML = docLinkHtml;\n",
              "          element.appendChild(docLink);\n",
              "        }\n",
              "      </script>\n",
              "    </div>\n",
              "  </div>\n",
              "  "
            ]
          },
          "metadata": {},
          "execution_count": 11
        }
      ]
    },
    {
      "cell_type": "code",
      "source": [
        "train_df.isna().sum()"
      ],
      "metadata": {
        "colab": {
          "base_uri": "https://localhost:8080/"
        },
        "id": "zUkvvKgQ784Y",
        "outputId": "2013e7c0-5f9e-407d-8fa4-d3573a27b1e2"
      },
      "execution_count": 12,
      "outputs": [
        {
          "output_type": "execute_result",
          "data": {
            "text/plain": [
              "label          27\n",
              "claim           8\n",
              "main_text      26\n",
              "explanation     8\n",
              "subjects       28\n",
              "sources        28\n",
              "dtype: int64"
            ]
          },
          "metadata": {},
          "execution_count": 12
        }
      ]
    },
    {
      "cell_type": "code",
      "source": [
        "dev_df.describe()"
      ],
      "metadata": {
        "colab": {
          "base_uri": "https://localhost:8080/",
          "height": 175
        },
        "id": "ozDdi8t6-dbV",
        "outputId": "f4a8031a-8fc5-4539-d427-5b031bbfafa9"
      },
      "execution_count": 13,
      "outputs": [
        {
          "output_type": "execute_result",
          "data": {
            "text/plain": [
              "       label                                              claim  \\\n",
              "count   1215                                               1219   \n",
              "unique     5                                               1219   \n",
              "top     true   A baby died at an unnamed medical facility be...   \n",
              "freq     629                                                  1   \n",
              "\n",
              "                                                main_text  \\\n",
              "count                                                1217   \n",
              "unique                                               1212   \n",
              "top     Beta-Propiolactone is in vaccines and is known...   \n",
              "freq                                                    3   \n",
              "\n",
              "                                              explanation     subjects  \n",
              "count                                                1219         1214  \n",
              "unique                                               1218          795  \n",
              "top     The largest study of its kind found new eviden...  Health News  \n",
              "freq                                                    2          160  "
            ],
            "text/html": [
              "\n",
              "  <div id=\"df-6771c8c4-5c4e-4b25-8b2f-0379ba72fe4c\">\n",
              "    <div class=\"colab-df-container\">\n",
              "      <div>\n",
              "<style scoped>\n",
              "    .dataframe tbody tr th:only-of-type {\n",
              "        vertical-align: middle;\n",
              "    }\n",
              "\n",
              "    .dataframe tbody tr th {\n",
              "        vertical-align: top;\n",
              "    }\n",
              "\n",
              "    .dataframe thead th {\n",
              "        text-align: right;\n",
              "    }\n",
              "</style>\n",
              "<table border=\"1\" class=\"dataframe\">\n",
              "  <thead>\n",
              "    <tr style=\"text-align: right;\">\n",
              "      <th></th>\n",
              "      <th>label</th>\n",
              "      <th>claim</th>\n",
              "      <th>main_text</th>\n",
              "      <th>explanation</th>\n",
              "      <th>subjects</th>\n",
              "    </tr>\n",
              "  </thead>\n",
              "  <tbody>\n",
              "    <tr>\n",
              "      <th>count</th>\n",
              "      <td>1215</td>\n",
              "      <td>1219</td>\n",
              "      <td>1217</td>\n",
              "      <td>1219</td>\n",
              "      <td>1214</td>\n",
              "    </tr>\n",
              "    <tr>\n",
              "      <th>unique</th>\n",
              "      <td>5</td>\n",
              "      <td>1219</td>\n",
              "      <td>1212</td>\n",
              "      <td>1218</td>\n",
              "      <td>795</td>\n",
              "    </tr>\n",
              "    <tr>\n",
              "      <th>top</th>\n",
              "      <td>true</td>\n",
              "      <td>A baby died at an unnamed medical facility be...</td>\n",
              "      <td>Beta-Propiolactone is in vaccines and is known...</td>\n",
              "      <td>The largest study of its kind found new eviden...</td>\n",
              "      <td>Health News</td>\n",
              "    </tr>\n",
              "    <tr>\n",
              "      <th>freq</th>\n",
              "      <td>629</td>\n",
              "      <td>1</td>\n",
              "      <td>3</td>\n",
              "      <td>2</td>\n",
              "      <td>160</td>\n",
              "    </tr>\n",
              "  </tbody>\n",
              "</table>\n",
              "</div>\n",
              "      <button class=\"colab-df-convert\" onclick=\"convertToInteractive('df-6771c8c4-5c4e-4b25-8b2f-0379ba72fe4c')\"\n",
              "              title=\"Convert this dataframe to an interactive table.\"\n",
              "              style=\"display:none;\">\n",
              "        \n",
              "  <svg xmlns=\"http://www.w3.org/2000/svg\" height=\"24px\"viewBox=\"0 0 24 24\"\n",
              "       width=\"24px\">\n",
              "    <path d=\"M0 0h24v24H0V0z\" fill=\"none\"/>\n",
              "    <path d=\"M18.56 5.44l.94 2.06.94-2.06 2.06-.94-2.06-.94-.94-2.06-.94 2.06-2.06.94zm-11 1L8.5 8.5l.94-2.06 2.06-.94-2.06-.94L8.5 2.5l-.94 2.06-2.06.94zm10 10l.94 2.06.94-2.06 2.06-.94-2.06-.94-.94-2.06-.94 2.06-2.06.94z\"/><path d=\"M17.41 7.96l-1.37-1.37c-.4-.4-.92-.59-1.43-.59-.52 0-1.04.2-1.43.59L10.3 9.45l-7.72 7.72c-.78.78-.78 2.05 0 2.83L4 21.41c.39.39.9.59 1.41.59.51 0 1.02-.2 1.41-.59l7.78-7.78 2.81-2.81c.8-.78.8-2.07 0-2.86zM5.41 20L4 18.59l7.72-7.72 1.47 1.35L5.41 20z\"/>\n",
              "  </svg>\n",
              "      </button>\n",
              "      \n",
              "  <style>\n",
              "    .colab-df-container {\n",
              "      display:flex;\n",
              "      flex-wrap:wrap;\n",
              "      gap: 12px;\n",
              "    }\n",
              "\n",
              "    .colab-df-convert {\n",
              "      background-color: #E8F0FE;\n",
              "      border: none;\n",
              "      border-radius: 50%;\n",
              "      cursor: pointer;\n",
              "      display: none;\n",
              "      fill: #1967D2;\n",
              "      height: 32px;\n",
              "      padding: 0 0 0 0;\n",
              "      width: 32px;\n",
              "    }\n",
              "\n",
              "    .colab-df-convert:hover {\n",
              "      background-color: #E2EBFA;\n",
              "      box-shadow: 0px 1px 2px rgba(60, 64, 67, 0.3), 0px 1px 3px 1px rgba(60, 64, 67, 0.15);\n",
              "      fill: #174EA6;\n",
              "    }\n",
              "\n",
              "    [theme=dark] .colab-df-convert {\n",
              "      background-color: #3B4455;\n",
              "      fill: #D2E3FC;\n",
              "    }\n",
              "\n",
              "    [theme=dark] .colab-df-convert:hover {\n",
              "      background-color: #434B5C;\n",
              "      box-shadow: 0px 1px 3px 1px rgba(0, 0, 0, 0.15);\n",
              "      filter: drop-shadow(0px 1px 2px rgba(0, 0, 0, 0.3));\n",
              "      fill: #FFFFFF;\n",
              "    }\n",
              "  </style>\n",
              "\n",
              "      <script>\n",
              "        const buttonEl =\n",
              "          document.querySelector('#df-6771c8c4-5c4e-4b25-8b2f-0379ba72fe4c button.colab-df-convert');\n",
              "        buttonEl.style.display =\n",
              "          google.colab.kernel.accessAllowed ? 'block' : 'none';\n",
              "\n",
              "        async function convertToInteractive(key) {\n",
              "          const element = document.querySelector('#df-6771c8c4-5c4e-4b25-8b2f-0379ba72fe4c');\n",
              "          const dataTable =\n",
              "            await google.colab.kernel.invokeFunction('convertToInteractive',\n",
              "                                                     [key], {});\n",
              "          if (!dataTable) return;\n",
              "\n",
              "          const docLinkHtml = 'Like what you see? Visit the ' +\n",
              "            '<a target=\"_blank\" href=https://colab.research.google.com/notebooks/data_table.ipynb>data table notebook</a>'\n",
              "            + ' to learn more about interactive tables.';\n",
              "          element.innerHTML = '';\n",
              "          dataTable['output_type'] = 'display_data';\n",
              "          await google.colab.output.renderOutput(dataTable, element);\n",
              "          const docLink = document.createElement('div');\n",
              "          docLink.innerHTML = docLinkHtml;\n",
              "          element.appendChild(docLink);\n",
              "        }\n",
              "      </script>\n",
              "    </div>\n",
              "  </div>\n",
              "  "
            ]
          },
          "metadata": {},
          "execution_count": 13
        }
      ]
    },
    {
      "cell_type": "code",
      "source": [
        "dev_df.isna().sum()"
      ],
      "metadata": {
        "colab": {
          "base_uri": "https://localhost:8080/"
        },
        "id": "LSRoH7JgBN9j",
        "outputId": "2fc5153e-9ab7-47d4-cbb4-80f1cea83869"
      },
      "execution_count": 14,
      "outputs": [
        {
          "output_type": "execute_result",
          "data": {
            "text/plain": [
              "label          6\n",
              "claim          2\n",
              "main_text      4\n",
              "explanation    2\n",
              "subjects       7\n",
              "dtype: int64"
            ]
          },
          "metadata": {},
          "execution_count": 14
        }
      ]
    },
    {
      "cell_type": "code",
      "source": [
        "# dev_df.iloc[10].to_list() "
      ],
      "metadata": {
        "id": "zFQJC55kBYBe"
      },
      "execution_count": 15,
      "outputs": []
    },
    {
      "cell_type": "code",
      "source": [
        "test_df.describe()"
      ],
      "metadata": {
        "colab": {
          "base_uri": "https://localhost:8080/",
          "height": 175
        },
        "id": "aaAiH9LJBkls",
        "outputId": "1b20cb99-114a-4c07-ef22-b66b69237490"
      },
      "execution_count": 16,
      "outputs": [
        {
          "output_type": "execute_result",
          "data": {
            "text/plain": [
              "       label                                              claim  \\\n",
              "count   1233                                               1235   \n",
              "unique     4                                               1235   \n",
              "top     true  A mother revealed to her child in a letter aft...   \n",
              "freq     599                                                  1   \n",
              "\n",
              "                                                main_text  \\\n",
              "count                                                1235   \n",
              "unique                                               1231   \n",
              "top     If the new coronavirus gets into your mouth, d...   \n",
              "freq                                                    2   \n",
              "\n",
              "                                              explanation     subjects  \n",
              "count                                                1235         1233  \n",
              "unique                                               1234          840  \n",
              "top     Plant-based food startup JUST, shortly to laun...  Health News  \n",
              "freq                                                    2          142  "
            ],
            "text/html": [
              "\n",
              "  <div id=\"df-fa4eab4d-07ff-4d3a-ae69-f95bdac2a117\">\n",
              "    <div class=\"colab-df-container\">\n",
              "      <div>\n",
              "<style scoped>\n",
              "    .dataframe tbody tr th:only-of-type {\n",
              "        vertical-align: middle;\n",
              "    }\n",
              "\n",
              "    .dataframe tbody tr th {\n",
              "        vertical-align: top;\n",
              "    }\n",
              "\n",
              "    .dataframe thead th {\n",
              "        text-align: right;\n",
              "    }\n",
              "</style>\n",
              "<table border=\"1\" class=\"dataframe\">\n",
              "  <thead>\n",
              "    <tr style=\"text-align: right;\">\n",
              "      <th></th>\n",
              "      <th>label</th>\n",
              "      <th>claim</th>\n",
              "      <th>main_text</th>\n",
              "      <th>explanation</th>\n",
              "      <th>subjects</th>\n",
              "    </tr>\n",
              "  </thead>\n",
              "  <tbody>\n",
              "    <tr>\n",
              "      <th>count</th>\n",
              "      <td>1233</td>\n",
              "      <td>1235</td>\n",
              "      <td>1235</td>\n",
              "      <td>1235</td>\n",
              "      <td>1233</td>\n",
              "    </tr>\n",
              "    <tr>\n",
              "      <th>unique</th>\n",
              "      <td>4</td>\n",
              "      <td>1235</td>\n",
              "      <td>1231</td>\n",
              "      <td>1234</td>\n",
              "      <td>840</td>\n",
              "    </tr>\n",
              "    <tr>\n",
              "      <th>top</th>\n",
              "      <td>true</td>\n",
              "      <td>A mother revealed to her child in a letter aft...</td>\n",
              "      <td>If the new coronavirus gets into your mouth, d...</td>\n",
              "      <td>Plant-based food startup JUST, shortly to laun...</td>\n",
              "      <td>Health News</td>\n",
              "    </tr>\n",
              "    <tr>\n",
              "      <th>freq</th>\n",
              "      <td>599</td>\n",
              "      <td>1</td>\n",
              "      <td>2</td>\n",
              "      <td>2</td>\n",
              "      <td>142</td>\n",
              "    </tr>\n",
              "  </tbody>\n",
              "</table>\n",
              "</div>\n",
              "      <button class=\"colab-df-convert\" onclick=\"convertToInteractive('df-fa4eab4d-07ff-4d3a-ae69-f95bdac2a117')\"\n",
              "              title=\"Convert this dataframe to an interactive table.\"\n",
              "              style=\"display:none;\">\n",
              "        \n",
              "  <svg xmlns=\"http://www.w3.org/2000/svg\" height=\"24px\"viewBox=\"0 0 24 24\"\n",
              "       width=\"24px\">\n",
              "    <path d=\"M0 0h24v24H0V0z\" fill=\"none\"/>\n",
              "    <path d=\"M18.56 5.44l.94 2.06.94-2.06 2.06-.94-2.06-.94-.94-2.06-.94 2.06-2.06.94zm-11 1L8.5 8.5l.94-2.06 2.06-.94-2.06-.94L8.5 2.5l-.94 2.06-2.06.94zm10 10l.94 2.06.94-2.06 2.06-.94-2.06-.94-.94-2.06-.94 2.06-2.06.94z\"/><path d=\"M17.41 7.96l-1.37-1.37c-.4-.4-.92-.59-1.43-.59-.52 0-1.04.2-1.43.59L10.3 9.45l-7.72 7.72c-.78.78-.78 2.05 0 2.83L4 21.41c.39.39.9.59 1.41.59.51 0 1.02-.2 1.41-.59l7.78-7.78 2.81-2.81c.8-.78.8-2.07 0-2.86zM5.41 20L4 18.59l7.72-7.72 1.47 1.35L5.41 20z\"/>\n",
              "  </svg>\n",
              "      </button>\n",
              "      \n",
              "  <style>\n",
              "    .colab-df-container {\n",
              "      display:flex;\n",
              "      flex-wrap:wrap;\n",
              "      gap: 12px;\n",
              "    }\n",
              "\n",
              "    .colab-df-convert {\n",
              "      background-color: #E8F0FE;\n",
              "      border: none;\n",
              "      border-radius: 50%;\n",
              "      cursor: pointer;\n",
              "      display: none;\n",
              "      fill: #1967D2;\n",
              "      height: 32px;\n",
              "      padding: 0 0 0 0;\n",
              "      width: 32px;\n",
              "    }\n",
              "\n",
              "    .colab-df-convert:hover {\n",
              "      background-color: #E2EBFA;\n",
              "      box-shadow: 0px 1px 2px rgba(60, 64, 67, 0.3), 0px 1px 3px 1px rgba(60, 64, 67, 0.15);\n",
              "      fill: #174EA6;\n",
              "    }\n",
              "\n",
              "    [theme=dark] .colab-df-convert {\n",
              "      background-color: #3B4455;\n",
              "      fill: #D2E3FC;\n",
              "    }\n",
              "\n",
              "    [theme=dark] .colab-df-convert:hover {\n",
              "      background-color: #434B5C;\n",
              "      box-shadow: 0px 1px 3px 1px rgba(0, 0, 0, 0.15);\n",
              "      filter: drop-shadow(0px 1px 2px rgba(0, 0, 0, 0.3));\n",
              "      fill: #FFFFFF;\n",
              "    }\n",
              "  </style>\n",
              "\n",
              "      <script>\n",
              "        const buttonEl =\n",
              "          document.querySelector('#df-fa4eab4d-07ff-4d3a-ae69-f95bdac2a117 button.colab-df-convert');\n",
              "        buttonEl.style.display =\n",
              "          google.colab.kernel.accessAllowed ? 'block' : 'none';\n",
              "\n",
              "        async function convertToInteractive(key) {\n",
              "          const element = document.querySelector('#df-fa4eab4d-07ff-4d3a-ae69-f95bdac2a117');\n",
              "          const dataTable =\n",
              "            await google.colab.kernel.invokeFunction('convertToInteractive',\n",
              "                                                     [key], {});\n",
              "          if (!dataTable) return;\n",
              "\n",
              "          const docLinkHtml = 'Like what you see? Visit the ' +\n",
              "            '<a target=\"_blank\" href=https://colab.research.google.com/notebooks/data_table.ipynb>data table notebook</a>'\n",
              "            + ' to learn more about interactive tables.';\n",
              "          element.innerHTML = '';\n",
              "          dataTable['output_type'] = 'display_data';\n",
              "          await google.colab.output.renderOutput(dataTable, element);\n",
              "          const docLink = document.createElement('div');\n",
              "          docLink.innerHTML = docLinkHtml;\n",
              "          element.appendChild(docLink);\n",
              "        }\n",
              "      </script>\n",
              "    </div>\n",
              "  </div>\n",
              "  "
            ]
          },
          "metadata": {},
          "execution_count": 16
        }
      ]
    },
    {
      "cell_type": "code",
      "source": [
        "test_df.isna().sum()"
      ],
      "metadata": {
        "colab": {
          "base_uri": "https://localhost:8080/"
        },
        "id": "cFE79RcUD7Qi",
        "outputId": "e708ac35-baf8-40f4-ded7-2339f4af5e1c"
      },
      "execution_count": 17,
      "outputs": [
        {
          "output_type": "execute_result",
          "data": {
            "text/plain": [
              "label          2\n",
              "claim          0\n",
              "main_text      0\n",
              "explanation    0\n",
              "subjects       2\n",
              "dtype: int64"
            ]
          },
          "metadata": {},
          "execution_count": 17
        }
      ]
    },
    {
      "cell_type": "markdown",
      "source": [
        "**There is seemingly something wrong with the labels of train and dev dataframes therefore this should be fixed + droping the na values**"
      ],
      "metadata": {
        "id": "cPk_m5ZlTGSY"
      }
    },
    {
      "cell_type": "code",
      "source": [
        "print(train_df.label.unique())\n",
        "print(dev_df.label.unique())\n",
        "print(test_df.label.unique())"
      ],
      "metadata": {
        "colab": {
          "base_uri": "https://localhost:8080/"
        },
        "id": "eziW0ROTTF-Y",
        "outputId": "23938950-be17-4253-fbb3-8eb24f89037e"
      },
      "execution_count": 18,
      "outputs": [
        {
          "output_type": "stream",
          "name": "stdout",
          "text": [
            "['false' 'mixture' 'true' 'unproven' nan 'snopes']\n",
            "['unproven' 'true' 'false' 'mixture' nan\n",
            " 'National, Candidate Biography, Donald Trump, ']\n",
            "['false' 'true' 'unproven' 'mixture' nan]\n"
          ]
        }
      ]
    },
    {
      "cell_type": "markdown",
      "source": [
        "**It shows clearly that there are , additionally to the nan values other wrong/outlier labels.**"
      ],
      "metadata": {
        "id": "wQRCxKbzafSN"
      }
    },
    {
      "cell_type": "code",
      "source": [
        "train_df = train_df.dropna()\n",
        "dev_df = dev_df.dropna()\n",
        "test_df = test_df.dropna()"
      ],
      "metadata": {
        "id": "Ct1n1qsobBje"
      },
      "execution_count": 19,
      "outputs": []
    },
    {
      "cell_type": "code",
      "source": [
        "train_df[train_df.label == 'snopes'].size == 0 "
      ],
      "metadata": {
        "colab": {
          "base_uri": "https://localhost:8080/"
        },
        "id": "Qf5p7VKBb4Dg",
        "outputId": "8e9f947c-9bcc-4f79-d195-59ef83d1e596"
      },
      "execution_count": 20,
      "outputs": [
        {
          "output_type": "execute_result",
          "data": {
            "text/plain": [
              "True"
            ]
          },
          "metadata": {},
          "execution_count": 20
        }
      ]
    },
    {
      "cell_type": "code",
      "source": [
        "print(train_df.label.unique())\n",
        "print(dev_df.label.unique())\n",
        "print(test_df.label.unique())"
      ],
      "metadata": {
        "colab": {
          "base_uri": "https://localhost:8080/"
        },
        "id": "JL9kgouLdQeO",
        "outputId": "5e617da1-66d7-4778-d470-018d79c44bef"
      },
      "execution_count": 21,
      "outputs": [
        {
          "output_type": "stream",
          "name": "stdout",
          "text": [
            "['false' 'mixture' 'true' 'unproven']\n",
            "['unproven' 'true' 'false' 'mixture']\n",
            "['false' 'true' 'unproven' 'mixture']\n"
          ]
        }
      ]
    },
    {
      "cell_type": "markdown",
      "source": [
        "**To have an idea about sentences lengths for eac feature.**\n",
        "\n",
        "\n"
      ],
      "metadata": {
        "id": "MSE7Q3WrvzKH"
      }
    },
    {
      "cell_type": "code",
      "source": [
        "#helper function to get average lengths of the texts in each columns.\n",
        "def tolist(col):\n",
        "  '''column of string to list\n",
        "  '''\n",
        "  return col.to_list()\n",
        "\n",
        "def avglist(strlist:list):\n",
        "  '''get average of a list of strings\n",
        "  '''\n",
        "  return sum([len(s) for s in strlist])/len(strlist)\n",
        "\n",
        "def average_columns_len(df,columns:list):\n",
        "  ''' given a list of columns in data frame , the function should return s dict having as values an average of the lenght of sentence present in the columns which are keys\n",
        "  '''\n",
        "  res = dict()\n",
        "  for col in columns:\n",
        "    res[col]=round(avglist(tolist(df[col])),2)\n",
        "  return res\n"
      ],
      "metadata": {
        "id": "3b15azAzb6q-"
      },
      "execution_count": null,
      "outputs": []
    },
    {
      "cell_type": "code",
      "source": [
        "average_columns_len(pub_health_train,['claim','main_text','subjects','explanation','sources'])"
      ],
      "metadata": {
        "colab": {
          "base_uri": "https://localhost:8080/"
        },
        "id": "4-tkmbET6c1L",
        "outputId": "7e0fa3e2-c05b-48f8-c0c9-cc3b548e65a4"
      },
      "execution_count": null,
      "outputs": [
        {
          "output_type": "execute_result",
          "data": {
            "text/plain": [
              "{'claim': 85.69,\n",
              " 'main_text': 4376.84,\n",
              " 'subjects': 40.08,\n",
              " 'explanation': 482.97,\n",
              " 'sources': 390.47}"
            ]
          },
          "metadata": {},
          "execution_count": 28
        }
      ]
    },
    {
      "cell_type": "code",
      "source": [
        "#"
      ],
      "metadata": {
        "id": "M6E6SrIpwkbH"
      },
      "execution_count": null,
      "outputs": []
    },
    {
      "cell_type": "markdown",
      "source": [
        "**Visualize label distribution over the dataset**"
      ],
      "metadata": {
        "id": "0CTOjz7Adcjo"
      }
    },
    {
      "cell_type": "code",
      "source": [
        "import seaborn as sns\n",
        "import matplotlib.pyplot as plt\n",
        "\n",
        "labels = ['false', 'mixture', 'true', 'unproven']\n",
        "sns.set_theme(style=\"whitegrid\")\n",
        "fig, ax = plt.subplots(1,3,constrained_layout=True, figsize=(16, 5))\n",
        "axesSub = sns.countplot(x=\"label\", data=train_df, ax=ax[0], order=labels)\n",
        "axesSub.set_title('train')\n",
        "axesSub = sns.countplot(x=\"label\", data=dev_df, ax=ax[1], order=labels)\n",
        "axesSub.set_title('dev')\n",
        "axesSub = sns.countplot(x=\"label\", data=test_df, ax=ax[2], order=labels)\n",
        "axesSub.set_title('test')"
      ],
      "metadata": {
        "colab": {
          "base_uri": "https://localhost:8080/",
          "height": 402
        },
        "id": "Rbul9CFMbke-",
        "outputId": "636a9e5a-ba94-444f-8623-6470b213bec8"
      },
      "execution_count": 22,
      "outputs": [
        {
          "output_type": "execute_result",
          "data": {
            "text/plain": [
              "Text(0.5, 1.0, 'test')"
            ]
          },
          "metadata": {},
          "execution_count": 22
        },
        {
          "output_type": "display_data",
          "data": {
            "text/plain": [
              "<Figure size 1152x360 with 3 Axes>"
            ],
            "image/png": "[encoded data removed]"
          },
          "metadata": {}
        }
      ]
    },
    {
      "cell_type": "markdown",
      "source": [
        "highly imbalanced data, thinking either cuting down the 'true' labeld data"
      ],
      "metadata": {
        "id": "bE6US1fBozc8"
      }
    },
    {
      "cell_type": "code",
      "source": [
        "# thinking about conducting a PCA on separated columns/features to see if any pattern appears for "
      ],
      "metadata": {
        "id": "LnUMOVTWILcN"
      },
      "execution_count": 23,
      "outputs": []
    },
    {
      "cell_type": "code",
      "source": [
        "# save the clean data\n",
        "train_df.to_csv('drive/MyDrive/pubhealth/data/clean/exp1/clean_train.tsv', sep='\\t', index=False)\n",
        "dev_df.to_csv('drive/MyDrive/pubhealth/data/clean/exp1/clean_dev.tsv', sep='\\t', index=False)\n",
        "test_df.to_csv('drive/MyDrive/pubhealth/data/clean/exp1/clean_test.tsv', sep='\\t', index=False)"
      ],
      "metadata": {
        "id": "63lwvKh3wEWO"
      },
      "execution_count": 24,
      "outputs": []
    },
    {
      "cell_type": "code",
      "source": [],
      "metadata": {
        "id": "5ABKN1_mygAW"
      },
      "execution_count": null,
      "outputs": []
    }
  ]
}