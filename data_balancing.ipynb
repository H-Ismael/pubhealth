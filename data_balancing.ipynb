{
  "nbformat": 4,
  "nbformat_minor": 0,
  "metadata": {
    "colab": {
      "provenance": []
    },
    "kernelspec": {
      "name": "python3",
      "display_name": "Python 3"
    },
    "language_info": {
      "name": "python"
    },
    "gpuClass": "standard"
  },
  "cells": [
    {
      "cell_type": "markdown",
      "source": [
        "# **Undersampling True label to approach False one.**"
      ],
      "metadata": {
        "id": "QtCMPV14VBdl"
      }
    },
    {
      "cell_type": "code",
      "execution_count": null,
      "metadata": {
        "id": "TqPN38idznlW"
      },
      "outputs": [],
      "source": [
        "#I will particularly balance true and false by reducing undersampling true "
      ]
    },
    {
      "cell_type": "code",
      "source": [
        "import pandas as pd"
      ],
      "metadata": {
        "id": "KFJeJCMzET2z"
      },
      "execution_count": null,
      "outputs": []
    },
    {
      "cell_type": "code",
      "source": [
        "pub_health_train = pd.read_csv('drive/MyDrive/Projects/pubhealth/data/clean/clean_train.tsv', sep='\\t')\n",
        "pub_health_test  = pd.read_csv('drive/MyDrive/Projects/pubhealth/data/clean/clean_dev.tsv', sep='\\t')"
      ],
      "metadata": {
        "id": "Ui9qJqKtFWZa"
      },
      "execution_count": null,
      "outputs": []
    },
    {
      "cell_type": "code",
      "source": [
        "pub_health_train.head()"
      ],
      "metadata": {
        "colab": {
          "base_uri": "https://localhost:8080/",
          "height": 389
        },
        "id": "ruImbOM9L4EQ",
        "outputId": "9d3aef51-42b5-4007-f9bc-19447491c0aa"
      },
      "execution_count": null,
      "outputs": [
        {
          "output_type": "execute_result",
          "data": {
            "text/plain": [
              "     label                                              claim  \\\n",
              "0    false  \"The money the Clinton Foundation took from fr...   \n",
              "1  mixture    Annual Mammograms May Have More False-Positives   \n",
              "2  mixture  SBRT Offers Prostate Cancer Patients High Canc...   \n",
              "3     true  Study: Vaccine for Breast, Ovarian Cancer Has ...   \n",
              "4     true  Some appendicitis cases may not require ’emerg...   \n",
              "\n",
              "                                           main_text  \\\n",
              "0  \"Hillary Clinton is in the political crosshair...   \n",
              "1  While the financial costs of screening mammogr...   \n",
              "2  The news release quotes lead researcher Robert...   \n",
              "3  The story does discuss costs, but the framing ...   \n",
              "4  \"Although the story didn’t cite the cost of ap...   \n",
              "\n",
              "                                         explanation  \\\n",
              "0  \"Gingrich said the Clinton Foundation \"\"took m...   \n",
              "1  This article reports on the results of a study...   \n",
              "2  This news release describes five-year outcomes...   \n",
              "3  While the story does many things well, the ove...   \n",
              "4  We really don’t understand why only a handful ...   \n",
              "\n",
              "                                      subjects  \\\n",
              "0  Foreign Policy, PunditFact, Newt Gingrich,    \n",
              "1               Screening,WebMD,women's health   \n",
              "2      Association/Society news release,Cancer   \n",
              "3                  Cancer,WebMD,women's health   \n",
              "4                                                \n",
              "\n",
              "                                             sources  \n",
              "0  https://www.wsj.com/articles/clinton-foundatio...  \n",
              "1                                                     \n",
              "2  https://www.healthnewsreview.org/wp-content/up...  \n",
              "3  http://clinicaltrials.gov/ct2/results?term=can...  \n",
              "4                                                     "
            ],
            "text/html": [
              "\n",
              "  <div id=\"df-3df99d8c-d92f-48d6-951d-bac434cc967d\">\n",
              "    <div class=\"colab-df-container\">\n",
              "      <div>\n",
              "<style scoped>\n",
              "    .dataframe tbody tr th:only-of-type {\n",
              "        vertical-align: middle;\n",
              "    }\n",
              "\n",
              "    .dataframe tbody tr th {\n",
              "        vertical-align: top;\n",
              "    }\n",
              "\n",
              "    .dataframe thead th {\n",
              "        text-align: right;\n",
              "    }\n",
              "</style>\n",
              "<table border=\"1\" class=\"dataframe\">\n",
              "  <thead>\n",
              "    <tr style=\"text-align: right;\">\n",
              "      <th></th>\n",
              "      <th>label</th>\n",
              "      <th>claim</th>\n",
              "      <th>main_text</th>\n",
              "      <th>explanation</th>\n",
              "      <th>subjects</th>\n",
              "      <th>sources</th>\n",
              "    </tr>\n",
              "  </thead>\n",
              "  <tbody>\n",
              "    <tr>\n",
              "      <th>0</th>\n",
              "      <td>false</td>\n",
              "      <td>\"The money the Clinton Foundation took from fr...</td>\n",
              "      <td>\"Hillary Clinton is in the political crosshair...</td>\n",
              "      <td>\"Gingrich said the Clinton Foundation \"\"took m...</td>\n",
              "      <td>Foreign Policy, PunditFact, Newt Gingrich,</td>\n",
              "      <td>https://www.wsj.com/articles/clinton-foundatio...</td>\n",
              "    </tr>\n",
              "    <tr>\n",
              "      <th>1</th>\n",
              "      <td>mixture</td>\n",
              "      <td>Annual Mammograms May Have More False-Positives</td>\n",
              "      <td>While the financial costs of screening mammogr...</td>\n",
              "      <td>This article reports on the results of a study...</td>\n",
              "      <td>Screening,WebMD,women's health</td>\n",
              "      <td></td>\n",
              "    </tr>\n",
              "    <tr>\n",
              "      <th>2</th>\n",
              "      <td>mixture</td>\n",
              "      <td>SBRT Offers Prostate Cancer Patients High Canc...</td>\n",
              "      <td>The news release quotes lead researcher Robert...</td>\n",
              "      <td>This news release describes five-year outcomes...</td>\n",
              "      <td>Association/Society news release,Cancer</td>\n",
              "      <td>https://www.healthnewsreview.org/wp-content/up...</td>\n",
              "    </tr>\n",
              "    <tr>\n",
              "      <th>3</th>\n",
              "      <td>true</td>\n",
              "      <td>Study: Vaccine for Breast, Ovarian Cancer Has ...</td>\n",
              "      <td>The story does discuss costs, but the framing ...</td>\n",
              "      <td>While the story does many things well, the ove...</td>\n",
              "      <td>Cancer,WebMD,women's health</td>\n",
              "      <td>http://clinicaltrials.gov/ct2/results?term=can...</td>\n",
              "    </tr>\n",
              "    <tr>\n",
              "      <th>4</th>\n",
              "      <td>true</td>\n",
              "      <td>Some appendicitis cases may not require ’emerg...</td>\n",
              "      <td>\"Although the story didn’t cite the cost of ap...</td>\n",
              "      <td>We really don’t understand why only a handful ...</td>\n",
              "      <td></td>\n",
              "      <td></td>\n",
              "    </tr>\n",
              "  </tbody>\n",
              "</table>\n",
              "</div>\n",
              "      <button class=\"colab-df-convert\" onclick=\"convertToInteractive('df-3df99d8c-d92f-48d6-951d-bac434cc967d')\"\n",
              "              title=\"Convert this dataframe to an interactive table.\"\n",
              "              style=\"display:none;\">\n",
              "        \n",
              "  <svg xmlns=\"http://www.w3.org/2000/svg\" height=\"24px\"viewBox=\"0 0 24 24\"\n",
              "       width=\"24px\">\n",
              "    <path d=\"M0 0h24v24H0V0z\" fill=\"none\"/>\n",
              "    <path d=\"M18.56 5.44l.94 2.06.94-2.06 2.06-.94-2.06-.94-.94-2.06-.94 2.06-2.06.94zm-11 1L8.5 8.5l.94-2.06 2.06-.94-2.06-.94L8.5 2.5l-.94 2.06-2.06.94zm10 10l.94 2.06.94-2.06 2.06-.94-2.06-.94-.94-2.06-.94 2.06-2.06.94z\"/><path d=\"M17.41 7.96l-1.37-1.37c-.4-.4-.92-.59-1.43-.59-.52 0-1.04.2-1.43.59L10.3 9.45l-7.72 7.72c-.78.78-.78 2.05 0 2.83L4 21.41c.39.39.9.59 1.41.59.51 0 1.02-.2 1.41-.59l7.78-7.78 2.81-2.81c.8-.78.8-2.07 0-2.86zM5.41 20L4 18.59l7.72-7.72 1.47 1.35L5.41 20z\"/>\n",
              "  </svg>\n",
              "      </button>\n",
              "      \n",
              "  <style>\n",
              "    .colab-df-container {\n",
              "      display:flex;\n",
              "      flex-wrap:wrap;\n",
              "      gap: 12px;\n",
              "    }\n",
              "\n",
              "    .colab-df-convert {\n",
              "      background-color: #E8F0FE;\n",
              "      border: none;\n",
              "      border-radius: 50%;\n",
              "      cursor: pointer;\n",
              "      display: none;\n",
              "      fill: #1967D2;\n",
              "      height: 32px;\n",
              "      padding: 0 0 0 0;\n",
              "      width: 32px;\n",
              "    }\n",
              "\n",
              "    .colab-df-convert:hover {\n",
              "      background-color: #E2EBFA;\n",
              "      box-shadow: 0px 1px 2px rgba(60, 64, 67, 0.3), 0px 1px 3px 1px rgba(60, 64, 67, 0.15);\n",
              "      fill: #174EA6;\n",
              "    }\n",
              "\n",
              "    [theme=dark] .colab-df-convert {\n",
              "      background-color: #3B4455;\n",
              "      fill: #D2E3FC;\n",
              "    }\n",
              "\n",
              "    [theme=dark] .colab-df-convert:hover {\n",
              "      background-color: #434B5C;\n",
              "      box-shadow: 0px 1px 3px 1px rgba(0, 0, 0, 0.15);\n",
              "      filter: drop-shadow(0px 1px 2px rgba(0, 0, 0, 0.3));\n",
              "      fill: #FFFFFF;\n",
              "    }\n",
              "  </style>\n",
              "\n",
              "      <script>\n",
              "        const buttonEl =\n",
              "          document.querySelector('#df-3df99d8c-d92f-48d6-951d-bac434cc967d button.colab-df-convert');\n",
              "        buttonEl.style.display =\n",
              "          google.colab.kernel.accessAllowed ? 'block' : 'none';\n",
              "\n",
              "        async function convertToInteractive(key) {\n",
              "          const element = document.querySelector('#df-3df99d8c-d92f-48d6-951d-bac434cc967d');\n",
              "          const dataTable =\n",
              "            await google.colab.kernel.invokeFunction('convertToInteractive',\n",
              "                                                     [key], {});\n",
              "          if (!dataTable) return;\n",
              "\n",
              "          const docLinkHtml = 'Like what you see? Visit the ' +\n",
              "            '<a target=\"_blank\" href=https://colab.research.google.com/notebooks/data_table.ipynb>data table notebook</a>'\n",
              "            + ' to learn more about interactive tables.';\n",
              "          element.innerHTML = '';\n",
              "          dataTable['output_type'] = 'display_data';\n",
              "          await google.colab.output.renderOutput(dataTable, element);\n",
              "          const docLink = document.createElement('div');\n",
              "          docLink.innerHTML = docLinkHtml;\n",
              "          element.appendChild(docLink);\n",
              "        }\n",
              "      </script>\n",
              "    </div>\n",
              "  </div>\n",
              "  "
            ]
          },
          "metadata": {},
          "execution_count": 4
        }
      ]
    },
    {
      "cell_type": "code",
      "source": [
        "pub_health_train.label.value_counts()"
      ],
      "metadata": {
        "colab": {
          "base_uri": "https://localhost:8080/"
        },
        "id": "6MURhQ80FbLx",
        "outputId": "ab100062-a39e-42d6-f8fa-333832d274bf"
      },
      "execution_count": null,
      "outputs": [
        {
          "output_type": "execute_result",
          "data": {
            "text/plain": [
              "true        5077\n",
              "false       3001\n",
              "mixture     1434\n",
              "unproven     291\n",
              "Name: label, dtype: int64"
            ]
          },
          "metadata": {},
          "execution_count": 5
        }
      ]
    },
    {
      "cell_type": "code",
      "source": [
        "counttrue ,countfalse,countmix,countunprov = pub_health_train.label.value_counts()"
      ],
      "metadata": {
        "id": "gIsmbbtCMGb6"
      },
      "execution_count": null,
      "outputs": []
    },
    {
      "cell_type": "code",
      "source": [
        "classtrue = pub_health_train[pub_health_train['label'] == 'true']\n",
        "classfalse = pub_health_train[pub_health_train['label'] == 'false']\n",
        "classmix = pub_health_train[pub_health_train['label'] == 'mixture']\n",
        "classunprov = pub_health_train[pub_health_train['label'] == 'unproven']\n",
        "\n"
      ],
      "metadata": {
        "id": "x6B9oLCEMSQJ"
      },
      "execution_count": null,
      "outputs": []
    },
    {
      "cell_type": "code",
      "source": [
        "df_classtrue = classtrue.sample(countfalse)"
      ],
      "metadata": {
        "id": "QapKAFKSMTQM"
      },
      "execution_count": null,
      "outputs": []
    },
    {
      "cell_type": "code",
      "source": [
        "balanced_pub_health_train = pd.concat([df_classtrue,classfalse,classmix,classunprov],axis = 0)"
      ],
      "metadata": {
        "id": "AeBbkLF3SzdL"
      },
      "execution_count": null,
      "outputs": []
    },
    {
      "cell_type": "code",
      "source": [
        "balanced_pub_health_train.label.value_counts()"
      ],
      "metadata": {
        "colab": {
          "base_uri": "https://localhost:8080/"
        },
        "id": "Y-yUlh3qTXlW",
        "outputId": "94422779-8954-4e2a-bd15-7fff98e31a0c"
      },
      "execution_count": null,
      "outputs": [
        {
          "output_type": "execute_result",
          "data": {
            "text/plain": [
              "true        3001\n",
              "false       3001\n",
              "mixture     1434\n",
              "unproven     291\n",
              "Name: label, dtype: int64"
            ]
          },
          "metadata": {},
          "execution_count": 17
        }
      ]
    },
    {
      "cell_type": "code",
      "source": [
        "balanced_pub_health_train.to_csv('drive/MyDrive/Projects/pubhealth/data/balanced/balanced_train.tsv',sep='\\t',index =False)"
      ],
      "metadata": {
        "id": "1D9GuuSZXWzn"
      },
      "execution_count": null,
      "outputs": []
    },
    {
      "cell_type": "code",
      "source": [
        "#same for test "
      ],
      "metadata": {
        "id": "ivD6t_j2TZxD"
      },
      "execution_count": null,
      "outputs": []
    },
    {
      "cell_type": "code",
      "source": [
        "counttrue ,countfalse,countmix,countunprov = pub_health_test.label.value_counts()"
      ],
      "metadata": {
        "id": "zvjONlAsXLTj"
      },
      "execution_count": null,
      "outputs": []
    },
    {
      "cell_type": "code",
      "source": [
        "classtrue = pub_health_test[pub_health_test['label'] == 'true']\n",
        "classfalse = pub_health_test[pub_health_test['label'] == 'false']\n",
        "classmix = pub_health_test[pub_health_test['label'] == 'mixture']\n",
        "classunprov = pub_health_test[pub_health_test['label'] == 'unproven']"
      ],
      "metadata": {
        "id": "iH_D87QJYF5u"
      },
      "execution_count": null,
      "outputs": []
    },
    {
      "cell_type": "code",
      "source": [
        "df_classtrue = classtrue.sample(countfalse)"
      ],
      "metadata": {
        "id": "oXf42gRbYVCn"
      },
      "execution_count": null,
      "outputs": []
    },
    {
      "cell_type": "code",
      "source": [
        "balanced_pub_health_test = pd.concat([df_classtrue,classfalse,classmix,classunprov],axis = 0)"
      ],
      "metadata": {
        "id": "-hQlrmIxY2cN"
      },
      "execution_count": null,
      "outputs": []
    },
    {
      "cell_type": "code",
      "source": [
        "balanced_pub_health_test.label.value_counts()"
      ],
      "metadata": {
        "colab": {
          "base_uri": "https://localhost:8080/"
        },
        "id": "r-843jCSY9PH",
        "outputId": "848728f1-41ef-428f-c185-a92c149ece44"
      },
      "execution_count": null,
      "outputs": [
        {
          "output_type": "execute_result",
          "data": {
            "text/plain": [
              "true        380\n",
              "false       380\n",
              "mixture     164\n",
              "unproven     41\n",
              "Name: label, dtype: int64"
            ]
          },
          "metadata": {},
          "execution_count": 24
        }
      ]
    },
    {
      "cell_type": "code",
      "source": [
        "balanced_pub_health_test.to_csv('drive/MyDrive/Projects/pubhealth/data/balanced/balanced_test.tsv',sep='\\t',index =False)"
      ],
      "metadata": {
        "id": "pzJGlqvOZB4J"
      },
      "execution_count": null,
      "outputs": []
    },
    {
      "cell_type": "code",
      "source": [],
      "metadata": {
        "id": "VU300LOQZNUa"
      },
      "execution_count": null,
      "outputs": []
    }
  ]
}